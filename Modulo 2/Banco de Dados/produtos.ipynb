{
 "cells": [
  {
   "cell_type": "markdown",
   "id": "0e69efee",
   "metadata": {},
   "source": [
    "Banco De Dados\n"
   ]
  },
  {
   "cell_type": "markdown",
   "id": "e05fbd17",
   "metadata": {},
   "source": [
    "Criação de banco de dados"
   ]
  },
  {
   "cell_type": "markdown",
   "id": "ff0348e3",
   "metadata": {},
   "source": [
    "import sqlite3"
   ]
  },
  {
   "cell_type": "markdown",
   "id": "dbca4c7d",
   "metadata": {},
   "source": [
    "# criar banco de dados\n",
    "produto ='produtos.db'"
   ]
  },
  {
   "cell_type": "code",
   "execution_count": 11,
   "id": "08e3c755",
   "metadata": {},
   "outputs": [
    {
     "name": "stdout",
     "output_type": "stream",
     "text": [
      "Erro: near \".\": syntax error\n",
      "[]\n"
     ]
    }
   ],
   "source": [
    "import sqlite3\n",
    "\n",
    "# Importação da biblioteca sqlite3\n",
    "import sqlite3\n",
    "\n",
    "# Criar o banco de dados\n",
    "produto = 'produtos.db'\n",
    "\n",
    "# Criar tabelas\n",
    "script_produtos = '''CREATE TABLE IF NOT EXISTS Produtos(\n",
    "                    id INTEGER PRIMA.RY KEY AUTOINCREMENT,\n",
    "                    nome TEXT NOT NULL,\n",
    "                    preco REAL NOT NULL,\n",
    "                    categoria TEXT NOT NULL,\n",
    "                    estoque INTEGER NOT NULL\n",
    "                    );'''\n",
    "try:\n",
    "    with sqlite3.connect(produto) as con:\n",
    "    # Criar um cursor\n",
    "        cur = con.cursor()\n",
    "        \n",
    "        # Executar o script\n",
    "        cur.execute(script_produtos)\n",
    "        \n",
    "        # Salvar as alterações no banco de dados\n",
    "        con.commit()\n",
    "        print('Tabela Criada com sucesso!')\n",
    "except sqlite3.OperationalError as e:\n",
    "    print('Erro:', e)\n",
    "    # verificar se a tabela foi criada\n",
    "    res= cur.execute('SELECT name FROM sqlite_master')\n",
    "    print(res.fetchall())# retonar uma linha do resultado obitido, tabela\n",
    "    # resultado vem no formato de tupla"
   ]
  },
  {
   "cell_type": "markdown",
   "id": "876709db",
   "metadata": {},
   "source": [
    "CONSULTAR TABELAS"
   ]
  },
  {
   "cell_type": "markdown",
   "id": "9335bc21",
   "metadata": {},
   "source": [
    "sql= 'SELECT + FROM produtos\n",
    "\n",
    "try:\n",
    "    with sqlite3.connect(produtos) as con:\n",
    "    #criar um cursor\n",
    "    cur = xin.cursor()\n",
    "    # Executar o script\n",
    "    cur.execute(sql)\n",
    "    res = cur.fetcall() # retorna um lista de lista\n",
    "    print(res)\n",
    "    except squite3.operationalError as e:\n",
    "    print('Erro: ', e)"
   ]
  },
  {
   "cell_type": "markdown",
   "id": "dc762aae",
   "metadata": {},
   "source": [
    "# inserir dados"
   ]
  },
  {
   "cell_type": "markdown",
   "id": "000b1e2f",
   "metadata": {},
   "source": [
    "import sqlite3\n",
    "\n",
    "sql = 'INSERT INTO Produtos (nome, preco, categoria, estoque) VALUES (?, ?, ?, ?)'\n",
    "\n",
    "try:\n",
    "    with sqlite3.connect('produto.db') as con:\n",
    "        cur = con.cursor()\n",
    "        cur.execute(sql, ('Notebook Dell', 2500.00, 'Eletrônicos', 15))\n",
    "        con.commit()  # para salvar as alterações no banco de dados\n",
    "except sqlite3.OperationalError as e:\n",
    "    print('Erro:', e)\n"
   ]
  },
  {
   "cell_type": "markdown",
   "id": "c1cb188e",
   "metadata": {},
   "source": [
    "# Inserir Varios Dados"
   ]
  },
  {
   "cell_type": "markdown",
   "id": "04f99594",
   "metadata": {},
   "source": [
    "# Lista de produtos para inserir\n",
    "produtos = [\n",
    "    ('Notebook', 3500.00, 'Eletrônicos', 10),\n",
    "    ('Smartphone', 2200.00, 'Eletrônicos', 15),\n",
    "    ('Geladeira', 4800.00, 'Eletrodomésticos', 5),\n",
    "    ('Camisetas', 59.90, 'Vestuário', 50),\n",
    "    ('Cafeteira', 320.00, 'Eletrodomésticos', 8)\n",
    "]\n",
    "\n",
    "import sqlite3\n",
    "\n",
    "try:\n",
    "    with sqlite3.connect('produto.db') as con:\n",
    "        cur = con.cursor()\n",
    "        cur.executemany('INSERT INTO Produtos (nome, preco, categoria, estoque) VALUES (?, ?, ?, ?)', produtos)\n",
    "        con.commit()  # para salvar as alterações no banco de dados\n",
    "        print('Produtos inseridos com sucesso!')\n",
    "except sqlite3.OperationalError as e:\n",
    "    print('Erro:', e)\n"
   ]
  },
  {
   "cell_type": "markdown",
   "id": "73ec4e9c",
   "metadata": {},
   "source": [
    "# outra maneira para verificar se os dados foram inseridos\n",
    "for linha in cur,execute('SELECT nome,preco FROM produtos ORDER by nome'):\n",
    "    print(linha)"
   ]
  },
  {
   "cell_type": "markdown",
   "id": "fcd7e150",
   "metadata": {},
   "source": [
    "# Atualizar um registro"
   ]
  },
  {
   "cell_type": "markdown",
   "id": "b1a16f6f",
   "metadata": {},
   "source": [
    "sql = ' UPDATE produtos SET preco = ? WHERE id = ?'\n",
    "try:\n",
    "    with sqlite3.connect('produto') as con:\n",
    "        cur = con.cursor()\n",
    "        cur.execute(sql) (3700.00,1)\n",
    "        con.commit()  # para salvar as alterações no banco de dados\n",
    "        print('Produtos inseridos com sucesso!')\n",
    "except sqlite3.OperationalError as e:\n",
    "    print('Erro:', e)"
   ]
  },
  {
   "cell_type": "markdown",
   "id": "20f3790b",
   "metadata": {},
   "source": [
    "# Deletar Registro"
   ]
  },
  {
   "cell_type": "markdown",
   "id": "f30fc7e8",
   "metadata": {},
   "source": [
    "slq = 'Delete FROM produtos whre id = ?\n",
    "try:\n",
    "    with sqlite3.connect('produto') as con:\n",
    "        cur = con.cursor()\n",
    "        cur.execute(sql) (1)\n",
    "        con.commit() # para salvar as alterações no banco de dados\n",
    "        print('Produtos inseridos com sucesso!')\n",
    "except sqlite3.OperationalError as e:\n",
    "    print('Erro:', e)\n"
   ]
  }
 ],
 "metadata": {
  "kernelspec": {
   "display_name": "Python 3",
   "language": "python",
   "name": "python3"
  },
  "language_info": {
   "codemirror_mode": {
    "name": "ipython",
    "version": 3
   },
   "file_extension": ".py",
   "mimetype": "text/x-python",
   "name": "python",
   "nbconvert_exporter": "python",
   "pygments_lexer": "ipython3",
   "version": "3.13.2"
  }
 },
 "nbformat": 4,
 "nbformat_minor": 5
}
